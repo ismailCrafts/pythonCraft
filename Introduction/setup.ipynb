{
  "nbformat": 4,
  "nbformat_minor": 0,
  "metadata": {
    "colab": {
      "provenance": [],
      "authorship_tag": "ABX9TyNp1SRvoM3U9bh+sF4b5mIf",
      "include_colab_link": true
    },
    "kernelspec": {
      "name": "python3",
      "display_name": "Python 3"
    },
    "language_info": {
      "name": "python"
    }
  },
  "cells": [
    {
      "cell_type": "markdown",
      "metadata": {
        "id": "view-in-github",
        "colab_type": "text"
      },
      "source": [
        "<a href=\"https://colab.research.google.com/github/ismailCrafts/pythonCraft/blob/main/day_01.ipynb\" target=\"_parent\"><img src=\"https://colab.research.google.com/assets/colab-badge.svg\" alt=\"Open In Colab\"/></a>"
      ]
    },
    {
      "cell_type": "markdown",
      "source": [
        "                        ***Setup***\n",
        "🛠 How to Set Up our Python Development Environment (Beginner-Friendly)\n",
        "To start coding in Python, **we need two things:**\n",
        "\n",
        "1| Python (the programming language itself)\n",
        "\n",
        "2| A code editor (to write and manage our code)\n",
        "\n",
        "\n",
        "***Let’s go through the setup step by step.***\n",
        "\n",
        "✅ Step 1: Install Python\n",
        "Go to the official Python website:\n",
        "👉 https://www.python.org/downloads/\n",
        "\n",
        "Download the latest version of Python:\n",
        "\n",
        "Choose the right file for our operating system:\n",
        "\n",
        "For Windows: download the .exe file\n",
        "\n",
        "For macOS or Linux: download the appropriate file for our system\n",
        "\n",
        "Install Python:\n",
        "\n",
        "After the download is complete, go to our Downloads folder\n",
        "\n",
        "Double-click the Python installer (e.g., python-3.x.x.exe)\n",
        "\n",
        "Follow the on-screen instructions\n",
        "\n",
        "Important: Check the box that says “Add Python to PATH” before clicking \"Install\"\n",
        "\n",
        "**Verify the installation:**\n",
        "\n",
        "Opening our Terminal (Command Prompt on Windows, Terminal on Mac/Linux)\n",
        "\n",
        "Type the following command and press Enter:\n",
        "\n",
        "\n",
        "python --version\n",
        "If Python is installed correctly, it will show the version number (e.g., Python 3.12.0)\n",
        "\n",
        "✅ Step 2: Install a Code Editor (Visual Studio Code)\n",
        "There are many code editors out there (e.g., Atom, PyCharm, Sublime Text), but we recommend using Visual Studio Code (VS Code) because it’s lightweight, beginner-friendly, and widely used in the industry.\n",
        "\n",
        "Download VS Code:\n",
        "👉 https://code.visualstudio.com/Download\n",
        "\n",
        "Install VS Code:\n",
        "\n",
        "Download the file that matches your OS (e.g., .exe for Windows)\n",
        "\n",
        "Go to your Downloads folder\n",
        "\n",
        "Double-click the installer and follow the instructions\n",
        "\n",
        "✅ Step 3: Set Up Python in VS Code\n",
        "To run Python code in VS Code, we need to install the Python extension.\n",
        "\n",
        "Open Visual Studio Code\n",
        "\n",
        "On the left sidebar, click the Extensions icon (or press Ctrl+Shift+X)\n",
        "\n",
        "In the search bar, type \"Python\"\n",
        "\n",
        "Click on the extension named Python (published by Microsoft)\n",
        "\n",
        "Click Install\n",
        "\n",
        "Once installed, VS Code will recognize Python files and let you run your code directly from the editor.\n",
        "\n",
        "🎉 You're All Set!\n",
        "We’ve now installed Python and VS Code, and connected them together. We’re ready to start writing\n",
        "our first Python program."
      ],
      "metadata": {
        "id": "afxHFRpc1IiJ"
      }
    },
    {
      "cell_type": "markdown",
      "source": [
        "For Article: [Setup Python Development Environment](https://hostman.com/tutorials/how-to-set-up-visual-studio-code-for-python/)\n"
      ],
      "metadata": {
        "id": "0vKDuBtG3SB_"
      }
    },
    {
      "cell_type": "markdown",
      "source": [
        "For Video: [Setup Python Development Environment](https://www.youtube.com/playlist?list=PLwHsDW0b6wmBF5Gy9X4M6Gp_CIv-s1r6w)"
      ],
      "metadata": {
        "id": "hl40RTJI4haX"
      }
    }
  ]
}
