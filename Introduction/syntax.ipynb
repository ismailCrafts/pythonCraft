{
  "cells": [
    {
      "cell_type": "markdown",
      "metadata": {
        "id": "view-in-github",
        "colab_type": "text"
      },
      "source": [
        "<a href=\"https://colab.research.google.com/github/ismailCrafts/pythonCraft/blob/main/Introduction/syntax.ipynb\" target=\"_parent\"><img src=\"https://colab.research.google.com/assets/colab-badge.svg\" alt=\"Open In Colab\"/></a>"
      ]
    },
    {
      "cell_type": "markdown",
      "id": "debb335f",
      "metadata": {
        "id": "debb335f"
      },
      "source": [
        "# 🖨️ Python Syntax & `print()` Function\n",
        "\n",
        "---\n",
        "\n",
        "## 🔹 What is Python Syntax?\n",
        "\n",
        "**Syntax** in Python refers to the set of rules that defines how Python code must be written. It determines the structure of programs. If you write something that doesn't follow Python's syntax, it will throw a `SyntaxError`. Example: forgetting colons, incorrect indentation, or using invalid characters.\n",
        "\n",
        "---\n",
        "\n",
        "## 🔸 Understanding the `print()` Function (Deep Explanation)\n",
        "\n",
        "The `print()` function is a **built-in output function** in Python that sends information to the standard output — usually the terminal or console. It’s most commonly used to display text, variable values, or debugging messages. Despite its simplicity, it’s a powerful tool that teaches core ideas like data representation, formatting, and function behavior.\n",
        "\n",
        "`print()` is used to show messages on the screen. It doesn’t give back any result — it just shows things. Inside, it uses something called **sys.stdout.write()** to do that. **[sys.stdout.write() is a method in Python used to write output to the \"system standard output\" stream, typically the console.]**\n",
        "\n",
        "**🤔Example:**\n",
        "```python\n",
        "print(\"Name:\", \"Alice\", \",\" ,\"Age:\" ,30)\n",
        "```\n",
        "**Output:**\n",
        "```\n",
        "Name: Alice , Age: 30\n",
        "```\n",
        "\n",
        "`print()` automatically converts non-string types (like integers, lists, etc.) to strings using `str()`. This makes it easy for beginners to print almost anything without worrying about types.\n",
        "\n",
        "Mastering `print()` early is critical. It's not just a tool for output — it's a way to see inside your program’s behavior. The way you use `print()` can dramatically improve how you understand and debug your code.\n",
        "\n"
      ]
    },
    {
      "cell_type": "markdown",
      "source": [
        "##🔹 print() Function Syntax in Python:"
      ],
      "metadata": {
        "id": "ijsiziT-m3uC"
      },
      "id": "ijsiziT-m3uC"
    },
    {
      "cell_type": "markdown",
      "source": [
        "\n",
        "```\n",
        "print(*objects, sep=' ', end='\\n', file=sys.stdout, flush=False)\n",
        "\n",
        "```\n",
        "| Parameter  | What it means                              | Default           | Simple Example                            |\n",
        "| ---------- | ------------------------------------------ | ----------------- | ----------------------------------------- |\n",
        "| `*objects` | The things you want to print (can be many) | Required          | `print(\"Hello\", \"World\")` → `Hello World` |\n",
        "| `sep`      | The separator between items                | `' '` (a space)   | `print(\"A\", \"B\", \"C\", sep='-')` → `A-B-C` |\n",
        "| `end`      | What to print at the end                   | `'\\n'` (new line) | `print(\"Hello\", end='!')` → `Hello!`      |\n",
        "| `file`     | Where to print (default is screen)         | `sys.stdout`      | Not often used                    |\n",
        "| `flush`    | Force the output to appear right away      | `False`           | Usually not needed               |\n",
        "\n",
        "\n",
        "**🔸 `print()` Arguments Explained Simply.**\n",
        "\n",
        "✅ 1. `*objects` (required)\n",
        "\n",
        "- These are the things you want to print — like text, numbers, or variables.\n",
        "\n",
        "- You can write one or many items, separated by commas(\" , \").\n",
        "\n",
        "**🤔Example:**\n",
        "```python\n",
        "print(\"Hello\", \"World\", 2025)\n",
        "# Output: Hello World 2025\n",
        "\n",
        "```\n",
        "\n",
        "✅ 2. `sep=' ' `(optional)\n",
        "\n",
        "- \"sep\" stands for separator.\n",
        "\n",
        "- It controls what goes between the items.\n",
        "\n",
        "- **Default** is a `empty space (\" \") usually refers to whitespace.`\n",
        "\n",
        "**🤔Example:**\n",
        "```python\n",
        "print(\"A\", \"B\", \"C\", sep='-')\n",
        "# Output: A-B-C\n",
        "```\n",
        "\n",
        "✅ 3. `end='\\n'` (optional)\n",
        "\n",
        "- end controls what comes at the end of the line.\n",
        "\n",
        "- Default is a new line (\\n), meaning it goes to the next line.\n",
        "\n",
        "- You can change it, like putting dots or keeping everything on one line.\n",
        "\n",
        "**🤔Example:**\n",
        "```python\n",
        "print(\"Hello\", end=\"\")\n",
        "print(\"World\")\n",
        "# Output: HelloWorld\n",
        "\n",
        "```\n",
        "\n",
        "> ⚠️ **Note:**  \n",
        "The `file` and `flush` parameters are part of the full `print()` function syntax, but they are **advanced features** mostly used in **file handling** or **real-time output control**.  \n",
        "For basic and most practical use, **you can safely ignore them**.\n",
        "\n"
      ],
      "metadata": {
        "id": "AQul7hDWna8M"
      },
      "id": "AQul7hDWna8M"
    },
    {
      "cell_type": "markdown",
      "id": "7e3ca9d9",
      "metadata": {
        "id": "7e3ca9d9"
      },
      "source": [
        "---\n",
        "\n",
        "## ✅ Basic Examples\n"
      ]
    },
    {
      "cell_type": "code",
      "execution_count": null,
      "id": "17f0b49b",
      "metadata": {
        "id": "17f0b49b"
      },
      "outputs": [],
      "source": [
        "# Printing a simple message\n",
        "print(\"Hello, world!\")"
      ]
    },
    {
      "cell_type": "code",
      "execution_count": null,
      "id": "29e7e0ed",
      "metadata": {
        "id": "29e7e0ed"
      },
      "outputs": [],
      "source": [
        "# Printing multiple items\n",
        "print(\"Name:\", \"Alice\", 25)"
      ]
    },
    {
      "cell_type": "code",
      "execution_count": null,
      "id": "ab2db02d",
      "metadata": {
        "id": "ab2db02d"
      },
      "outputs": [],
      "source": [
        "# Custom separator and ending\n",
        "print(\"Python\", \"is\", \"awesome\", sep=\"-\", end=\"!!!\\n\")"
      ]
    },
    {
      "cell_type": "markdown",
      "id": "6035bb83",
      "metadata": {
        "id": "6035bb83"
      },
      "source": [
        "---\n",
        "## ❌ Common Errors\n",
        "\n",
        "| Code                           | Error                           | Why it Fails                   |\n",
        "|--------------------------------|----------------------------------|-------------------------------|\n",
        "| `print \"Hello\"`               | `SyntaxError`                    | Missing parentheses (Python 3) |\n",
        "| `Print(\"Hello\")`              | `NameError`                      | Python is case-sensitive       |\n",
        "| `print('Hello)`               | `SyntaxError`                    | Missing closing quote          |\n"
      ]
    },
    {
      "cell_type": "markdown",
      "id": "1f52caf7",
      "metadata": {
        "id": "1f52caf7"
      },
      "source": [
        "---\n",
        "## 🧪 Practice Tasks\n",
        "\n",
        "1. Print your full name.\n",
        "2. Print your favorite number and a sentence using `print()`.\n",
        "3. Use `print()` with a custom separator (`sep`).\n",
        "4. Print this shape using three print statements:\n",
        "\n",
        "```\n",
        "*\n",
        "**\n",
        "***\n",
        "```\n"
      ]
    },
    {
      "cell_type": "markdown",
      "id": "8c465b86",
      "metadata": {
        "id": "8c465b86"
      },
      "source": [
        "---\n",
        "## ✅ Solutions\n"
      ]
    },
    {
      "cell_type": "code",
      "execution_count": null,
      "id": "06984c47",
      "metadata": {
        "id": "06984c47"
      },
      "outputs": [],
      "source": [
        "# Task 1\n",
        "print(\"Tareq Azad\")"
      ]
    },
    {
      "cell_type": "code",
      "execution_count": null,
      "id": "71f95173",
      "metadata": {
        "id": "71f95173"
      },
      "outputs": [],
      "source": [
        "# Task 2\n",
        "print(\"My favorite number is\", 7)"
      ]
    },
    {
      "cell_type": "code",
      "execution_count": null,
      "id": "24e27438",
      "metadata": {
        "id": "24e27438"
      },
      "outputs": [],
      "source": [
        "# Task 3\n",
        "print(\"Python\", \"Rocks\", sep=\" >> \")"
      ]
    },
    {
      "cell_type": "code",
      "execution_count": null,
      "id": "1cdbf889",
      "metadata": {
        "id": "1cdbf889"
      },
      "outputs": [],
      "source": [
        "# Task 4\n",
        "print(\"*\")\n",
        "print(\"**\")\n",
        "print(\"***\")"
      ]
    },
    {
      "cell_type": "markdown",
      "id": "4b31e9cf",
      "metadata": {
        "id": "4b31e9cf"
      },
      "source": [
        "---\n",
        "## 🔽 Additional Print Function Exercises\n"
      ]
    },
    {
      "cell_type": "markdown",
      "id": "101f8ff5",
      "metadata": {
        "id": "101f8ff5"
      },
      "source": [
        "# 🧠 20 `print()` Examples with Answers and Explanations"
      ]
    },
    {
      "cell_type": "markdown",
      "id": "8dc9b2ff",
      "metadata": {
        "id": "8dc9b2ff"
      },
      "source": [
        "### 1. Example"
      ]
    },
    {
      "cell_type": "code",
      "execution_count": null,
      "id": "78db08f8",
      "metadata": {
        "id": "78db08f8"
      },
      "outputs": [],
      "source": [
        "print(\"Hello\", \"World\")"
      ]
    },
    {
      "cell_type": "markdown",
      "id": "699f88c8",
      "metadata": {
        "id": "699f88c8"
      },
      "source": [
        "💡 **Output:**\n",
        "```\n",
        "Hello World\n",
        "```\n",
        "🧠 **Explanation:** By default, `print()` separates items with a space."
      ]
    },
    {
      "cell_type": "markdown",
      "id": "91e900a8",
      "metadata": {
        "id": "91e900a8"
      },
      "source": [
        "### 2. Example"
      ]
    },
    {
      "cell_type": "code",
      "execution_count": null,
      "id": "8d15ca39",
      "metadata": {
        "id": "8d15ca39"
      },
      "outputs": [],
      "source": [
        "print(\"2025\", \"06\", \"01\", sep='-')"
      ]
    },
    {
      "cell_type": "markdown",
      "id": "91ecd561",
      "metadata": {
        "id": "91ecd561"
      },
      "source": [
        "💡 **Output:**\n",
        "```\n",
        "2025-06-01\n",
        "```\n",
        "🧠 **Explanation:** `sep='-'` replaces the default space with a dash."
      ]
    },
    {
      "cell_type": "markdown",
      "id": "5c032be0",
      "metadata": {
        "id": "5c032be0"
      },
      "source": [
        "### 3. Example"
      ]
    },
    {
      "cell_type": "code",
      "execution_count": null,
      "id": "85bb34c3",
      "metadata": {
        "id": "85bb34c3"
      },
      "outputs": [],
      "source": [
        "print(\"Loading\", end='...')\n",
        "print(\"Done\")"
      ]
    },
    {
      "cell_type": "markdown",
      "id": "16992359",
      "metadata": {
        "id": "16992359"
      },
      "source": [
        "💡 **Output:**\n",
        "```\n",
        "Loading...Done\n",
        "```\n",
        "🧠 **Explanation:** `end='...'` adds dots, next print continues on same line."
      ]
    },
    {
      "cell_type": "markdown",
      "id": "56c8df72",
      "metadata": {
        "id": "56c8df72"
      },
      "source": [
        "### 4. Example"
      ]
    },
    {
      "cell_type": "code",
      "execution_count": null,
      "id": "da6593ab",
      "metadata": {
        "id": "da6593ab"
      },
      "outputs": [],
      "source": [
        "print(\"Python\", \"Is\", \"Fun\", sep='')"
      ]
    },
    {
      "cell_type": "markdown",
      "id": "8ca63388",
      "metadata": {
        "id": "8ca63388"
      },
      "source": [
        "💡 **Output:**\n",
        "```\n",
        "PythonIsFun\n",
        "```\n",
        "🧠 **Explanation:** `sep=''` joins items without spaces."
      ]
    },
    {
      "cell_type": "markdown",
      "id": "00458961",
      "metadata": {
        "id": "00458961"
      },
      "source": [
        "### 5. Example"
      ]
    },
    {
      "cell_type": "code",
      "execution_count": null,
      "id": "2a56f93c",
      "metadata": {
        "id": "2a56f93c"
      },
      "outputs": [],
      "source": [
        "name = \"Koni\"\n",
        "age = 21\n",
        "print(\"Name:\", name, \"Age:\", age)"
      ]
    },
    {
      "cell_type": "markdown",
      "id": "6c9be696",
      "metadata": {
        "id": "6c9be696"
      },
      "source": [
        "💡 **Output:**\n",
        "```\n",
        "Name: Koni Age: 21\n",
        "```\n",
        "🧠 **Explanation:** Combines text and variables using default space."
      ]
    },
    {
      "cell_type": "markdown",
      "id": "e1939d3c",
      "metadata": {
        "id": "e1939d3c"
      },
      "source": [
        "### 6. Example"
      ]
    },
    {
      "cell_type": "code",
      "execution_count": null,
      "id": "bed758a4",
      "metadata": {
        "id": "bed758a4"
      },
      "outputs": [],
      "source": [
        "print(\"14\", \"30\", \"45\", sep=':')"
      ]
    },
    {
      "cell_type": "markdown",
      "id": "9d56dc85",
      "metadata": {
        "id": "9d56dc85"
      },
      "source": [
        "💡 **Output:**\n",
        "```\n",
        "14:30:45\n",
        "```\n",
        "🧠 **Explanation:** Formats time using colon separator."
      ]
    },
    {
      "cell_type": "markdown",
      "id": "1e00bd4f",
      "metadata": {
        "id": "1e00bd4f"
      },
      "source": [
        "### 7. Example"
      ]
    },
    {
      "cell_type": "code",
      "execution_count": null,
      "id": "defb00f8",
      "metadata": {
        "id": "defb00f8"
      },
      "outputs": [],
      "source": [
        "print(\"home\", \"user\", \"downloads\", sep='/')"
      ]
    },
    {
      "cell_type": "markdown",
      "id": "ea893af1",
      "metadata": {
        "id": "ea893af1"
      },
      "source": [
        "💡 **Output:**\n",
        "```\n",
        "home/user/downloads\n",
        "```\n",
        "🧠 **Explanation:** Simulates a UNIX file path."
      ]
    },
    {
      "cell_type": "markdown",
      "id": "e162f217",
      "metadata": {
        "id": "e162f217"
      },
      "source": [
        "### 8. Example"
      ]
    },
    {
      "cell_type": "code",
      "execution_count": null,
      "id": "cb5f9439",
      "metadata": {
        "id": "cb5f9439"
      },
      "outputs": [],
      "source": [
        "print(\"Step 1\", end=' ')\n",
        "print(\"Step 2\")"
      ]
    },
    {
      "cell_type": "markdown",
      "id": "09bf2aeb",
      "metadata": {
        "id": "09bf2aeb"
      },
      "source": [
        "💡 **Output:**\n",
        "```\n",
        "Step 1 Step 2\n",
        "```\n",
        "🧠 **Explanation:** Prints both on same line using space."
      ]
    },
    {
      "cell_type": "markdown",
      "id": "f2d26fc4",
      "metadata": {
        "id": "f2d26fc4"
      },
      "source": [
        "### 9. Example"
      ]
    },
    {
      "cell_type": "code",
      "execution_count": null,
      "id": "5ed1c63f",
      "metadata": {
        "id": "5ed1c63f"
      },
      "outputs": [],
      "source": [
        "print(\"Loading\", end='')\n",
        "print(\"...\")"
      ]
    },
    {
      "cell_type": "markdown",
      "id": "ae8f7cf0",
      "metadata": {
        "id": "ae8f7cf0"
      },
      "source": [
        "💡 **Output:**\n",
        "```\n",
        "Loading...\n",
        "```\n",
        "🧠 **Explanation:** Skips newline, second print starts immediately."
      ]
    },
    {
      "cell_type": "markdown",
      "id": "f68ee5da",
      "metadata": {
        "id": "f68ee5da"
      },
      "source": [
        "### 10. Example"
      ]
    },
    {
      "cell_type": "code",
      "execution_count": null,
      "id": "44297967",
      "metadata": {
        "id": "44297967"
      },
      "outputs": [],
      "source": [
        "print(\"A\", \"B\", \"C\", sep='-', end='.')"
      ]
    },
    {
      "cell_type": "markdown",
      "id": "39e9d025",
      "metadata": {
        "id": "39e9d025"
      },
      "source": [
        "💡 **Output:**\n",
        "```\n",
        "A-B-C.\n",
        "```\n",
        "🧠 **Explanation:** Custom separator and line ending."
      ]
    },
    {
      "cell_type": "markdown",
      "id": "847cb064",
      "metadata": {
        "id": "847cb064"
      },
      "source": [
        "### 11. Example"
      ]
    },
    {
      "cell_type": "code",
      "execution_count": null,
      "id": "0e015d48",
      "metadata": {
        "id": "0e015d48"
      },
      "outputs": [],
      "source": [
        "print(\"🙂\", \"🙂\", \"🙂\", sep='')"
      ]
    },
    {
      "cell_type": "markdown",
      "id": "365d1c49",
      "metadata": {
        "id": "365d1c49"
      },
      "source": [
        "💡 **Output:**\n",
        "```\n",
        "🙂🙂🙂\n",
        "```\n",
        "🧠 **Explanation:** Emojis with no space."
      ]
    },
    {
      "cell_type": "markdown",
      "id": "eae4548c",
      "metadata": {
        "id": "eae4548c"
      },
      "source": [
        "### 12. Example"
      ]
    },
    {
      "cell_type": "code",
      "execution_count": null,
      "id": "35fbbe82",
      "metadata": {
        "id": "35fbbe82"
      },
      "outputs": [],
      "source": [
        "print(\"Name\", \"Age\", \"City\", sep=',')"
      ]
    },
    {
      "cell_type": "markdown",
      "id": "a717c3b4",
      "metadata": {
        "id": "a717c3b4"
      },
      "source": [
        "💡 **Output:**\n",
        "```\n",
        "Name,Age,City\n",
        "```\n",
        "🧠 **Explanation:** Simulates CSV format."
      ]
    },
    {
      "cell_type": "markdown",
      "id": "7c770fff",
      "metadata": {
        "id": "7c770fff"
      },
      "source": [
        "### 13. Example"
      ]
    },
    {
      "cell_type": "code",
      "execution_count": null,
      "id": "faf147b8",
      "metadata": {
        "id": "faf147b8"
      },
      "outputs": [],
      "source": [
        "print(\"user\", \"domain.com\", sep='@')"
      ]
    },
    {
      "cell_type": "markdown",
      "id": "ba4c429d",
      "metadata": {
        "id": "ba4c429d"
      },
      "source": [
        "💡 **Output:**\n",
        "```\n",
        "user@domain.com\n",
        "```\n",
        "🧠 **Explanation:** Joins email parts."
      ]
    },
    {
      "cell_type": "markdown",
      "id": "c0e177f5",
      "metadata": {
        "id": "c0e177f5"
      },
      "source": [
        "### 14. Example"
      ]
    },
    {
      "cell_type": "code",
      "execution_count": null,
      "id": "f9a2f0fc",
      "metadata": {
        "id": "f9a2f0fc"
      },
      "outputs": [],
      "source": [
        "print(\"+880\", \"123\", \"4567890\", sep='-')"
      ]
    },
    {
      "cell_type": "markdown",
      "id": "48bbbbba",
      "metadata": {
        "id": "48bbbbba"
      },
      "source": [
        "💡 **Output:**\n",
        "```\n",
        "+880-123-4567890\n",
        "```\n",
        "🧠 **Explanation:** Phone number format."
      ]
    },
    {
      "cell_type": "markdown",
      "id": "d1f8c189",
      "metadata": {
        "id": "d1f8c189"
      },
      "source": [
        "### 15. Example"
      ]
    },
    {
      "cell_type": "code",
      "execution_count": null,
      "id": "8d592083",
      "metadata": {
        "id": "8d592083"
      },
      "outputs": [],
      "source": [
        "x = \"Python\"\n",
        "y = \"3.10\"\n",
        "print(x, y, sep=' v')"
      ]
    },
    {
      "cell_type": "markdown",
      "id": "c928f275",
      "metadata": {
        "id": "c928f275"
      },
      "source": [
        "💡 **Output:**\n",
        "```\n",
        "Python v3.10\n",
        "```\n",
        "🧠 **Explanation:** Version string."
      ]
    },
    {
      "cell_type": "markdown",
      "id": "345828a5",
      "metadata": {
        "id": "345828a5"
      },
      "source": [
        "### 16. Example"
      ]
    },
    {
      "cell_type": "code",
      "execution_count": 2,
      "id": "66d56e4e",
      "metadata": {
        "colab": {
          "base_uri": "https://localhost:8080/"
        },
        "id": "66d56e4e",
        "outputId": "53ad1337-1f49-4c07-af1d-dce2b46f9df7"
      },
      "outputs": [
        {
          "output_type": "stream",
          "name": "stdout",
          "text": [
            "First Middle Last\n"
          ]
        }
      ],
      "source": [
        "print(\"First\", \"Middle\", \"Last\", sep=' ')"
      ]
    },
    {
      "cell_type": "markdown",
      "id": "ea190d90",
      "metadata": {
        "id": "ea190d90"
      },
      "source": [
        "💡 **Output:**\n",
        "```\n",
        "First Middle Last\n",
        "```\n",
        "🧠 **Explanation:** Full name with space."
      ]
    },
    {
      "cell_type": "markdown",
      "id": "7ec985cc",
      "metadata": {
        "id": "7ec985cc"
      },
      "source": [
        "### 17. Example"
      ]
    },
    {
      "cell_type": "code",
      "execution_count": null,
      "id": "26779c9b",
      "metadata": {
        "id": "26779c9b"
      },
      "outputs": [],
      "source": [
        "print(\"[\", end='')\n",
        "print(\"####\", end='')\n",
        "print(\"    ]\")"
      ]
    },
    {
      "cell_type": "markdown",
      "id": "a24539ac",
      "metadata": {
        "id": "a24539ac"
      },
      "source": [
        "💡 **Output:**\n",
        "```\n",
        "[####    ]\n",
        "```\n",
        "🧠 **Explanation:** Text-based progress bar."
      ]
    },
    {
      "cell_type": "markdown",
      "id": "84c0ed78",
      "metadata": {
        "id": "84c0ed78"
      },
      "source": [
        "### 18. Example"
      ]
    },
    {
      "cell_type": "code",
      "execution_count": null,
      "id": "199ea5d4",
      "metadata": {
        "id": "199ea5d4"
      },
      "outputs": [],
      "source": [
        "day = 1\n",
        "month = 6\n",
        "year = 2025\n",
        "print(day, month, year, sep='-')"
      ]
    },
    {
      "cell_type": "markdown",
      "id": "dddac019",
      "metadata": {
        "id": "dddac019"
      },
      "source": [
        "💡 **Output:**\n",
        "```\n",
        "1-6-2025\n",
        "```\n",
        "🧠 **Explanation:** Date formatting."
      ]
    },
    {
      "cell_type": "markdown",
      "id": "44908e3e",
      "metadata": {
        "id": "44908e3e"
      },
      "source": [
        "### 19. Example"
      ]
    },
    {
      "cell_type": "code",
      "execution_count": null,
      "id": "d613bcc0",
      "metadata": {
        "id": "d613bcc0"
      },
      "outputs": [],
      "source": [
        "print(\"Milk\", \"Bread\", \"Eggs\", sep=' | ')"
      ]
    },
    {
      "cell_type": "markdown",
      "id": "12cc6dd5",
      "metadata": {
        "id": "12cc6dd5"
      },
      "source": [
        "💡 **Output:**\n",
        "```\n",
        "Milk | Bread | Eggs\n",
        "```\n",
        "🧠 **Explanation:** Shopping list style."
      ]
    },
    {
      "cell_type": "markdown",
      "id": "bb953da5",
      "metadata": {
        "id": "bb953da5"
      },
      "source": [
        "### 20. Example"
      ]
    },
    {
      "cell_type": "code",
      "execution_count": 3,
      "id": "a10d9cea",
      "metadata": {
        "colab": {
          "base_uri": "https://localhost:8080/"
        },
        "id": "a10d9cea",
        "outputId": "13d9dc2e-1b5d-4960-f892-c76d4fbe27a5"
      },
      "outputs": [
        {
          "output_type": "stream",
          "name": "stdout",
          "text": [
            "Math: | 80 | Science: | 90\n"
          ]
        }
      ],
      "source": [
        "math = 80\n",
        "science = 90\n",
        "print(\"Math:\", math, \"Science:\", science, sep=' | ')"
      ]
    },
    {
      "cell_type": "markdown",
      "id": "d13d10a5",
      "metadata": {
        "id": "d13d10a5"
      },
      "source": [
        "💡 **Output:**\n",
        "```\n",
        "Math: | 80 | Science: | 90\n",
        "```\n",
        "🧠 **Explanation:** Displays marks cleanly."
      ]
    },
    {
      "cell_type": "markdown",
      "id": "1dab2173",
      "metadata": {
        "id": "1dab2173"
      },
      "source": [
        "\n",
        "## 🧪 Real-World Questions for You to Try\n",
        "\n",
        "Try solving these on your own:\n",
        "\n",
        "1. Print your name and profession with a dash between.\n",
        "2. Print today's date in `DD/MM/YYYY` format.\n",
        "3. Create a file path like `C:\\Users\\Koni\\Desktop`.\n",
        "4. Print 5 stars (`*`) in one line without spaces.\n",
        "5. Print your name, age, and city separated by commas.\n",
        "6. Print “Starting...” and “Finished!” on the same line using `end`.\n",
        "7. Combine the words `\"Learn\"`, `\"Python\"`, `\"Fast\"` with slashes `/`.\n",
        "8. Format a version: `App v2.0.1`.\n",
        "9. Display a progress message: `Processing...Done!`.\n",
        "10. Print three smiley emojis with a space between each.\n"
      ]
    }
  ],
  "metadata": {
    "colab": {
      "provenance": [],
      "include_colab_link": true
    },
    "language_info": {
      "name": "python"
    },
    "kernelspec": {
      "name": "python3",
      "display_name": "Python 3"
    }
  },
  "nbformat": 4,
  "nbformat_minor": 5
}