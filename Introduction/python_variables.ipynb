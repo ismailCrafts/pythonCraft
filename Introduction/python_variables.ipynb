{
  "cells": [
    {
      "cell_type": "markdown",
      "metadata": {
        "id": "view-in-github",
        "colab_type": "text"
      },
      "source": [
        "<a href=\"https://colab.research.google.com/github/ismailCrafts/pythonCraft/blob/main/Introduction/python_variables.ipynb\" target=\"_parent\"><img src=\"https://colab.research.google.com/assets/colab-badge.svg\" alt=\"Open In Colab\"/></a>"
      ]
    },
    {
      "cell_type": "markdown",
      "source": [
        "# 📦 Python Variable"
      ],
      "metadata": {
        "id": "shlvfWlK0cN1"
      },
      "id": "shlvfWlK0cN1"
    },
    {
      "cell_type": "markdown",
      "id": "a3a1c222",
      "metadata": {
        "id": "a3a1c222"
      },
      "source": [
        "\n",
        "## 🔍 Understanding Python Variables\n",
        "\n",
        "In Python, variables are symbolic names used to reference memory-stored objects. When you write `x = 5`, you're telling Python to point the name `x` to an object containing the value `5`. Variables in Python don’t have fixed types—they are dynamically typed—so `x` can later point to a string, list, or any object without error. This flexibility allows rapid development, but it also means you must be careful to track what type of data a variable holds.\n",
        "\n",
        "\n",
        "🧠 **Why Do We Need Variables in Python?**\n",
        "\n",
        "We need variables in Python because they give us a way to store, refer to, and manipulate data using human-readable names, rather than hardcoded or repeated values. A variable acts as a label or pointer to a value in memory, allowing a program to become dynamic, efficient, and readable.\n",
        "\n",
        "Without variables, we couldn’t:\n",
        "\n",
        "- Store user input\n",
        "\n",
        "- Perform calculations with changing data\n",
        "\n",
        "- Reuse values without repeating them\n",
        "\n",
        "- Build adaptable logic (like in functions, loops, or conditions)\n",
        "\n",
        "- Manage data clearly in memory\n",
        "\n",
        "From a practical point of view, variables turn static scripts into flexible programs. Whether you're building a calculator, web form, AI model, or game, variables are essential for holding and updating data as the program runs.\n",
        "\n",
        "🔑 In short:\n",
        "We need variables to write reusable, dynamic, and understandable code. They are the basic unit of memory and logic handling in Python and every other programming language.\n",
        "\n",
        "\n",
        "\n",
        "## 🧠  Python Variable Naming Rules and Conventions\n",
        "1| **Must begin with a letter or underscore (_)**\n",
        "\n",
        "- ✅ Valid: name, _name, age1\n",
        "\n",
        "- ❌ Invalid: 1name, @value\n",
        "\n",
        "2| **Can only contain letters (a–z, A–Z), digits (0–9), and underscores (_)**\n",
        "\n",
        "- ✅ Valid: user_name, email123\n",
        "\n",
        "- ❌ Invalid: user-name, user$name, first name\n",
        "\n",
        "3| **Cannot use Python keywords or built-in names as variables**\n",
        "\n",
        "- ❌ Invalid: class, def, list, str, print\n",
        "\n",
        "- ✅ Valid: class_name, def1, list_\n",
        "\n",
        "4|**Case-sensitive (uppercase and lowercase are different)**\n",
        "\n",
        "- Age, age, and AGE are treated as 3 separate variables\n",
        "\n",
        "5| **Avoid starting with a single underscore unless necessary**\n",
        "\n",
        "( _ )temp is allowed, but by convention used for \"internal\" or temporary use\n",
        "\n",
        "6|**Avoid using double underscores at the beginning and end (__)**\n",
        "\n",
        "- Reserved for special Python methods like `__init__`, `__str__`\n",
        "\n",
        "7|**Use descriptive names**\n",
        "\n",
        "- ✅ Good: user_age, total_price, is_logged_in\n",
        "\n",
        "- ❌ Bad: x, y, data1 (unless used temporarily)\n",
        "\n",
        "8|**Use lowercase letters with underscores for normal variables**\n",
        "\n",
        "- ✅ Recommended: user_name, file_path\n",
        "\n",
        "9|**Avoid confusing characters**\n",
        "\n",
        "- Be careful not to mix up l (lowercase L), 1 (one), and I (uppercase i)\n",
        "\n",
        "10|**Do not use spaces**\n",
        "\n",
        "- Use underscores _ instead of spaces:\n",
        "\n",
        "- ✅ user_name, ❌ user name\n",
        "\n",
        "### 🔄 Multiple Assignment\n",
        "\n",
        "Python allows assigning values to multiple variables at once using a comma-separated format. For example, `a, b = 1, 2` assigns 1 to `a` and 2 to `b`. You can also assign the same value to multiple variables: `x = y = z = 0`.\n",
        "\n",
        "### 🌍 Variable Scope\n",
        "\n",
        "Scope defines where a variable can be accessed. A **local variable** is created inside a function and exists only there. A **global variable** is defined outside functions and accessible throughout the file. If you want to modify a global variable inside a function, you must use the `global` keyword. For nested functions, if you want to modify a variable in the enclosing (non-global) scope, use `nonlocal`.\n",
        "\n",
        "\n",
        "\n",
        "### 🧠 Visualizing Scope\n",
        "\n",
        "```\n",
        "Global Scope\n",
        "├── def outer():\n",
        "│   ├── Enclosing (Nonlocal) Scope\n",
        "│   │   └── def inner():\n",
        "│   │       └── Local Scope\n",
        "```\n",
        "\n",
        "Each function has its own local scope. The innermost function can access variables from the outer scopes unless shadowed. This model is called **LEGB**: Local, Enclosing, Global, Built-in.\n",
        "\n",
        "🔍 **The LEGB Rule:**\n",
        "\n",
        "Python’s Scope Resolution Model\n",
        "In Python, variable scope determines where in your code a variable is accessible. When you try to use a variable inside a function, Python follows a specific order to find the value. This order is called the LEGB rule, which stands for:\n",
        "\n",
        "L — Local:\n",
        "The innermost scope — inside the current function. Python checks here first when you reference a variable.\n",
        "\n",
        "E — Enclosing:\n",
        "The scope of any outer functions if the current function is nested inside another. Python checks these next.\n",
        "\n",
        "G — Global:\n",
        "The top-level script environment or module. If a variable isn’t found in local or enclosing scopes, Python looks here.\n",
        "\n",
        "B — Built-in:\n",
        "Finally, Python checks its built-in namespace — things like len, print, or range.\n",
        "\n"
      ]
    },
    {
      "cell_type": "markdown",
      "id": "e0f8952b",
      "metadata": {
        "id": "e0f8952b"
      },
      "source": [
        "\n",
        "## 🧠 Diagram: Variable Scope in Python\n",
        "\n",
        "```\n",
        "Global Scope:\n",
        "    x = 10\n",
        "\n",
        "    def outer():\n",
        "        y = 20  # Enclosing Scope\n",
        "\n",
        "        def inner():\n",
        "            z = 30  # Local Scope\n",
        "            print(x, y, z)\n",
        "\n",
        "        inner()\n",
        "```\n",
        "\n",
        "**Scope Hierarchy (LEGB):**\n",
        "\n",
        "1. **Local** – `z` inside `inner()`\n",
        "2. **Enclosing** – `y` from `outer()`\n",
        "3. **Global** – `x` from top level\n",
        "4. **Built-in** – like `print()` or `len()`\n"
      ]
    },
    {
      "cell_type": "markdown",
      "source": [
        "**🧠 Think of Variables Like This:**\n",
        "\n",
        "🏷️ 1. Label on a Jar.\n",
        "\n",
        "Imagine you have a row of glass jars, and you put different things inside:\n",
        "\n",
        "- One jar has sugar → You label it sugar.\n",
        "\n",
        "- Another jar has rice → You label it rice.\n",
        "\n",
        "- One more has salt → You label it salt.\n",
        "\n",
        "Now, if someone says, “Give me the rice,” you don’t check each jar. You just look for the label. This is exactly how variables work in Python:\n",
        "\n",
        "\n",
        "Python looks at the label (variable name) to find the value stored inside the “jar”.\n",
        "\n",
        "\n",
        "**📦 2. A Box with a Name**\n",
        "\n",
        "Think of a variable as a box with a name on it. You can open it, put something inside, take it out, or even replace it:\n",
        "\n",
        "You write \"x\" on a box.\n",
        "\n",
        "You put the number 5 inside.\n",
        "\n",
        "Later, you can:\n",
        "\n",
        "Take the number out and look at it.\n",
        "\n",
        "Replace it with \"apple\" or even a list like [1, 2, 3].\n",
        "\n",
        "Python lets you change what's inside the box any time. That’s called dynamic typing.\n",
        "\n",
        "**🔐 3. Locker in a Gym**\n",
        "\n",
        "Imagine you have a locker, and you write your name on it: Ismail. Inside, you keep your gym shoes.\n",
        "\n",
        "Later, you remove the shoes and place a bottle instead. Your locker name doesn’t change, but what’s inside does. Same in Python:\n",
        "\n",
        "```\n",
        "#python\n",
        "\n",
        "ismail_locker = \"shoes\"\n",
        "ismail_locker = \"bottle\"\n",
        "```\n",
        "Variables store the reference to the object (not the object itself). The locker holds something, and you can change it.\n",
        "\n",
        "**🧾 4. Receipt Tag in a Parcel Shop**\n",
        "\n",
        "You leave a parcel, and they give you a tag with a number. Later, you use that tag to retrieve your parcel. You don’t care where it's stored, only that the tag points to it. In Python, your variable is the tag — it points to the actual value in memory."
      ],
      "metadata": {
        "id": "zkOWBy_43j6o"
      },
      "id": "zkOWBy_43j6o"
    },
    {
      "cell_type": "markdown",
      "source": [
        "## 30 Question."
      ],
      "metadata": {
        "id": "0Xx8qkfH3rl8"
      },
      "id": "0Xx8qkfH3rl8"
    },
    {
      "cell_type": "markdown",
      "id": "147b7650",
      "metadata": {
        "id": "147b7650"
      },
      "source": [
        "### Assign a string to a variable"
      ]
    },
    {
      "cell_type": "code",
      "execution_count": null,
      "id": "37c3e472",
      "metadata": {
        "id": "37c3e472"
      },
      "outputs": [],
      "source": [
        "greeting = \"Hello Ismail\"\n",
        "print(greeting)"
      ]
    },
    {
      "cell_type": "markdown",
      "id": "537c06a1",
      "metadata": {
        "id": "537c06a1"
      },
      "source": [
        "### Assign an integer and float"
      ]
    },
    {
      "cell_type": "code",
      "execution_count": null,
      "id": "28d1c11b",
      "metadata": {
        "id": "28d1c11b"
      },
      "outputs": [],
      "source": [
        "age = 23\n",
        "height = 5.9\n",
        "print(age, height)"
      ]
    },
    {
      "cell_type": "markdown",
      "id": "257ae67b",
      "metadata": {
        "id": "257ae67b"
      },
      "source": [
        "### Reassign variable types"
      ]
    },
    {
      "cell_type": "code",
      "execution_count": null,
      "id": "8f31c60e",
      "metadata": {
        "id": "8f31c60e"
      },
      "outputs": [],
      "source": [
        "x = 100\n",
        "x = \"now a string\"\n",
        "print(x)"
      ]
    },
    {
      "cell_type": "markdown",
      "id": "d7dfd407",
      "metadata": {
        "id": "d7dfd407"
      },
      "source": [
        "### Assign multiple variables"
      ]
    },
    {
      "cell_type": "code",
      "execution_count": null,
      "id": "a545f7f9",
      "metadata": {
        "id": "a545f7f9"
      },
      "outputs": [],
      "source": [
        "a, b, c = 1, 2, 3\n",
        "print(a, b, c)"
      ]
    },
    {
      "cell_type": "markdown",
      "id": "a0d77056",
      "metadata": {
        "id": "a0d77056"
      },
      "source": [
        "### Assign same value to multiple variables"
      ]
    },
    {
      "cell_type": "code",
      "execution_count": null,
      "id": "69f4660f",
      "metadata": {
        "id": "69f4660f"
      },
      "outputs": [],
      "source": [
        "x = y = z = 0\n",
        "print(x, y, z)"
      ]
    },
    {
      "cell_type": "markdown",
      "id": "57d83496",
      "metadata": {
        "id": "57d83496"
      },
      "source": [
        "### Print memory address using id()"
      ]
    },
    {
      "cell_type": "code",
      "execution_count": null,
      "id": "aeb55649",
      "metadata": {
        "id": "aeb55649"
      },
      "outputs": [],
      "source": [
        "x = 10\n",
        "print(id(x))"
      ]
    },
    {
      "cell_type": "markdown",
      "id": "4b1820b0",
      "metadata": {
        "id": "4b1820b0"
      },
      "source": [
        "### Check type dynamically"
      ]
    },
    {
      "cell_type": "code",
      "execution_count": null,
      "id": "10c691c6",
      "metadata": {
        "id": "10c691c6"
      },
      "outputs": [],
      "source": [
        "data = 45.6\n",
        "print(type(data))"
      ]
    },
    {
      "cell_type": "markdown",
      "id": "d45727ca",
      "metadata": {
        "id": "d45727ca"
      },
      "source": [
        "### Variable shadowing demo"
      ]
    },
    {
      "cell_type": "code",
      "execution_count": null,
      "id": "561743d7",
      "metadata": {
        "id": "561743d7"
      },
      "outputs": [],
      "source": [
        "x = 5\n",
        "def demo():\n",
        "    x = 10\n",
        "    print(\"Inside:\", x)\n",
        "demo()\n",
        "print(\"Outside:\", x)"
      ]
    },
    {
      "cell_type": "markdown",
      "id": "81137b52",
      "metadata": {
        "id": "81137b52"
      },
      "source": [
        "### Use of global variable"
      ]
    },
    {
      "cell_type": "code",
      "execution_count": null,
      "id": "a9e0e545",
      "metadata": {
        "id": "a9e0e545"
      },
      "outputs": [],
      "source": [
        "total = 0\n",
        "def update():\n",
        "    global total\n",
        "    total += 1\n",
        "update()\n",
        "print(total)"
      ]
    },
    {
      "cell_type": "markdown",
      "id": "d5ddc08e",
      "metadata": {
        "id": "d5ddc08e"
      },
      "source": [
        "### Simple string variable"
      ]
    },
    {
      "cell_type": "code",
      "execution_count": null,
      "id": "3f7e94c3",
      "metadata": {
        "id": "3f7e94c3"
      },
      "outputs": [],
      "source": [
        "first_name = \"Ismail\"\n",
        "print(\"Hello\", first_name)"
      ]
    },
    {
      "cell_type": "markdown",
      "id": "ed7bd59b",
      "metadata": {
        "id": "ed7bd59b"
      },
      "source": [
        "### Boolean variable logic"
      ]
    },
    {
      "cell_type": "code",
      "execution_count": null,
      "id": "5b74820c",
      "metadata": {
        "id": "5b74820c"
      },
      "outputs": [],
      "source": [
        "is_python_fun = True\n",
        "print(is_python_fun)"
      ]
    },
    {
      "cell_type": "markdown",
      "id": "f4f72b41",
      "metadata": {
        "id": "f4f72b41"
      },
      "source": [
        "### Concatenate variables"
      ]
    },
    {
      "cell_type": "code",
      "execution_count": null,
      "id": "0955ea3c",
      "metadata": {
        "id": "0955ea3c"
      },
      "outputs": [],
      "source": [
        "first = \"Good\"\n",
        "second = \"Morning\"\n",
        "print(first + \" \" + second)"
      ]
    },
    {
      "cell_type": "markdown",
      "id": "f14a0459",
      "metadata": {
        "id": "f14a0459"
      },
      "source": [
        "### Storing list in variable"
      ]
    },
    {
      "cell_type": "code",
      "execution_count": null,
      "id": "a133b1c6",
      "metadata": {
        "id": "a133b1c6"
      },
      "outputs": [],
      "source": [
        "colors = [\"red\", \"blue\"]\n",
        "print(colors)"
      ]
    },
    {
      "cell_type": "markdown",
      "id": "65eea8ef",
      "metadata": {
        "id": "65eea8ef"
      },
      "source": [
        "### Dictionary as variable"
      ]
    },
    {
      "cell_type": "code",
      "execution_count": null,
      "id": "7706603f",
      "metadata": {
        "id": "7706603f"
      },
      "outputs": [],
      "source": [
        "profile = {\"name\": \"Ismail\", \"age\": 23}\n",
        "print(profile)"
      ]
    },
    {
      "cell_type": "markdown",
      "id": "db905a8d",
      "metadata": {
        "id": "db905a8d"
      },
      "source": [
        "### Tuple unpacking"
      ]
    },
    {
      "cell_type": "code",
      "execution_count": null,
      "id": "aa4e00ca",
      "metadata": {
        "id": "aa4e00ca"
      },
      "outputs": [],
      "source": [
        "a, b = (10, 20)\n",
        "print(a, b)"
      ]
    },
    {
      "cell_type": "markdown",
      "id": "a6dd50f9",
      "metadata": {
        "id": "a6dd50f9"
      },
      "source": [
        "### Variable referencing same object"
      ]
    },
    {
      "cell_type": "code",
      "execution_count": null,
      "id": "d22078e8",
      "metadata": {
        "id": "d22078e8"
      },
      "outputs": [],
      "source": [
        "x = [1, 2]\n",
        "y = x\n",
        "print(x is y)"
      ]
    },
    {
      "cell_type": "markdown",
      "id": "f88b1a1f",
      "metadata": {
        "id": "f88b1a1f"
      },
      "source": [
        "### Mutable vs immutable variable"
      ]
    },
    {
      "cell_type": "code",
      "execution_count": null,
      "id": "4741436c",
      "metadata": {
        "id": "4741436c"
      },
      "outputs": [],
      "source": [
        "a = [1, 2]\n",
        "b = a\n",
        "a.append(3)\n",
        "print(b)"
      ]
    },
    {
      "cell_type": "markdown",
      "id": "5bdcbbfd",
      "metadata": {
        "id": "5bdcbbfd"
      },
      "source": [
        "### Using nonlocal in nested function"
      ]
    },
    {
      "cell_type": "code",
      "execution_count": null,
      "id": "8c4ba6fc",
      "metadata": {
        "id": "8c4ba6fc"
      },
      "outputs": [],
      "source": [
        "def outer():\n",
        "    val = \"outer\"\n",
        "    def inner():\n",
        "        nonlocal val\n",
        "        val = \"inner\"\n",
        "    inner()\n",
        "    return val\n",
        "print(outer())"
      ]
    },
    {
      "cell_type": "markdown",
      "id": "0948b2c5",
      "metadata": {
        "id": "0948b2c5"
      },
      "source": [
        "### Access variable from enclosing scope"
      ]
    },
    {
      "cell_type": "code",
      "execution_count": null,
      "id": "d388e5dd",
      "metadata": {
        "id": "d388e5dd"
      },
      "outputs": [],
      "source": [
        "def outer():\n",
        "    msg = \"Hello\"\n",
        "    def inner():\n",
        "        print(msg)\n",
        "    inner()\n",
        "outer()"
      ]
    },
    {
      "cell_type": "markdown",
      "id": "42f7e518",
      "metadata": {
        "id": "42f7e518"
      },
      "source": [
        "### Mixing int and str (error)"
      ]
    },
    {
      "cell_type": "code",
      "execution_count": null,
      "id": "c5d37ab3",
      "metadata": {
        "id": "c5d37ab3"
      },
      "outputs": [],
      "source": [
        "x = 5\n",
        "y = \"5\"\n",
        "# print(x + y)  # will raise TypeError"
      ]
    },
    {
      "cell_type": "markdown",
      "id": "7d56fb6d",
      "metadata": {
        "id": "7d56fb6d"
      },
      "source": [
        "### Copy value not reference"
      ]
    },
    {
      "cell_type": "code",
      "execution_count": null,
      "id": "4a4292fc",
      "metadata": {
        "id": "4a4292fc"
      },
      "outputs": [],
      "source": [
        "x = 5\n",
        "y = x\n",
        "x = 10\n",
        "print(y)"
      ]
    },
    {
      "cell_type": "markdown",
      "id": "7a7fc07e",
      "metadata": {
        "id": "7a7fc07e"
      },
      "source": [
        "### Inspect object identity"
      ]
    },
    {
      "cell_type": "code",
      "execution_count": null,
      "id": "be4ea6d6",
      "metadata": {
        "id": "be4ea6d6"
      },
      "outputs": [],
      "source": [
        "a = 100\n",
        "b = 100\n",
        "print(id(a) == id(b))"
      ]
    },
    {
      "cell_type": "markdown",
      "id": "0da36f6d",
      "metadata": {
        "id": "0da36f6d"
      },
      "source": [
        "### Update variable with operation"
      ]
    },
    {
      "cell_type": "code",
      "execution_count": null,
      "id": "e240dd76",
      "metadata": {
        "id": "e240dd76"
      },
      "outputs": [],
      "source": [
        "counter = 0\n",
        "counter += 5\n",
        "print(counter)"
      ]
    },
    {
      "cell_type": "markdown",
      "id": "5e616097",
      "metadata": {
        "id": "5e616097"
      },
      "source": [
        "### String interpolation with variable"
      ]
    },
    {
      "cell_type": "code",
      "execution_count": null,
      "id": "81bf047b",
      "metadata": {
        "id": "81bf047b"
      },
      "outputs": [],
      "source": [
        "name = \"Ismail\"\n",
        "print(f\"My name is {name}\")"
      ]
    },
    {
      "cell_type": "markdown",
      "id": "1f8077d3",
      "metadata": {
        "id": "1f8077d3"
      },
      "source": [
        "### Variable in expression"
      ]
    },
    {
      "cell_type": "code",
      "execution_count": null,
      "id": "60347d2d",
      "metadata": {
        "id": "60347d2d"
      },
      "outputs": [],
      "source": [
        "price = 9.99\n",
        "quantity = 3\n",
        "total = price * quantity\n",
        "print(total)"
      ]
    },
    {
      "cell_type": "markdown",
      "id": "dad0d081",
      "metadata": {
        "id": "dad0d081"
      },
      "source": [
        "### Variable initialized to None"
      ]
    },
    {
      "cell_type": "code",
      "execution_count": null,
      "id": "0a407aef",
      "metadata": {
        "id": "0a407aef"
      },
      "outputs": [],
      "source": [
        "result = None\n",
        "print(result)"
      ]
    },
    {
      "cell_type": "markdown",
      "id": "47afa123",
      "metadata": {
        "id": "47afa123"
      },
      "source": [
        "### Access dictionary key via variable"
      ]
    },
    {
      "cell_type": "code",
      "execution_count": null,
      "id": "1e350d97",
      "metadata": {
        "id": "1e350d97"
      },
      "outputs": [],
      "source": [
        "key = \"name\"\n",
        "data = {\"name\": \"Ismail\"}\n",
        "print(data[key])"
      ]
    },
    {
      "cell_type": "markdown",
      "id": "02c859e3",
      "metadata": {
        "id": "02c859e3"
      },
      "source": [
        "### Create alias for long variable"
      ]
    },
    {
      "cell_type": "code",
      "execution_count": null,
      "id": "6e90b3f1",
      "metadata": {
        "id": "6e90b3f1"
      },
      "outputs": [],
      "source": [
        "very_long_name = \"value\"\n",
        "alias = very_long_name\n",
        "print(alias)"
      ]
    },
    {
      "cell_type": "markdown",
      "id": "479498ec",
      "metadata": {
        "id": "479498ec"
      },
      "source": [
        "### Simulate constant with naming"
      ]
    },
    {
      "cell_type": "code",
      "execution_count": null,
      "id": "53a51a04",
      "metadata": {
        "id": "53a51a04"
      },
      "outputs": [],
      "source": [
        "PI = 3.14159\n",
        "print(PI)"
      ]
    },
    {
      "cell_type": "markdown",
      "id": "afb3fc2e",
      "metadata": {
        "id": "afb3fc2e"
      },
      "source": [
        "### Use descriptive variable names"
      ]
    },
    {
      "cell_type": "code",
      "execution_count": null,
      "id": "a5616a56",
      "metadata": {
        "id": "a5616a56"
      },
      "outputs": [],
      "source": [
        "user_age = 23\n",
        "print(user_age)"
      ]
    },
    {
      "cell_type": "markdown",
      "id": "52567282",
      "metadata": {
        "id": "52567282"
      },
      "source": [
        "## ✍️ 20 Exercises for You (Ismail) to Solve"
      ]
    },
    {
      "cell_type": "markdown",
      "id": "876402af",
      "metadata": {
        "id": "876402af"
      },
      "source": [
        "**1. Create a variable to store your favorite movie name.**"
      ]
    },
    {
      "cell_type": "markdown",
      "id": "f71238cd",
      "metadata": {
        "id": "f71238cd"
      },
      "source": [
        "**2. Store the year you were born in a variable and print it.**"
      ]
    },
    {
      "cell_type": "markdown",
      "id": "372c708f",
      "metadata": {
        "id": "372c708f"
      },
      "source": [
        "**3. Assign your full name using two variables and join them.**"
      ]
    },
    {
      "cell_type": "markdown",
      "id": "b8bf2f8e",
      "metadata": {
        "id": "b8bf2f8e"
      },
      "source": [
        "**4. Create a variable to hold your email address.**"
      ]
    },
    {
      "cell_type": "markdown",
      "id": "bc31a1b8",
      "metadata": {
        "id": "bc31a1b8"
      },
      "source": [
        "**5. Store the result of 15 multiplied by 7 in a variable.**"
      ]
    },
    {
      "cell_type": "markdown",
      "id": "97c78c6a",
      "metadata": {
        "id": "97c78c6a"
      },
      "source": [
        "**6. Assign a list of 3 of your hobbies to a variable.**"
      ]
    },
    {
      "cell_type": "markdown",
      "id": "9ccb9749",
      "metadata": {
        "id": "9ccb9749"
      },
      "source": [
        "**7. Create a variable called `country` and assign your country name.**"
      ]
    },
    {
      "cell_type": "markdown",
      "id": "80b3078b",
      "metadata": {
        "id": "80b3078b"
      },
      "source": [
        "**8. Copy the value of one variable to another.**"
      ]
    },
    {
      "cell_type": "markdown",
      "id": "7a1d9c3c",
      "metadata": {
        "id": "7a1d9c3c"
      },
      "source": [
        "**9. Use a variable to hold your college name and print it.**"
      ]
    },
    {
      "cell_type": "markdown",
      "id": "f2176b2e",
      "metadata": {
        "id": "f2176b2e"
      },
      "source": [
        "**10. Assign a tuple of three numbers to a variable.**"
      ]
    },
    {
      "cell_type": "markdown",
      "id": "df84352d",
      "metadata": {
        "id": "df84352d"
      },
      "source": [
        "**11. Create a variable and reassign it 3 times with different types.**"
      ]
    },
    {
      "cell_type": "markdown",
      "id": "5c253f9a",
      "metadata": {
        "id": "5c253f9a"
      },
      "source": [
        "**12. Assign a dictionary to a variable with keys: name, age, city.**"
      ]
    },
    {
      "cell_type": "markdown",
      "id": "d114085d",
      "metadata": {
        "id": "d114085d"
      },
      "source": [
        "**13. Store the output of `len('Ismail')` in a variable.**"
      ]
    },
    {
      "cell_type": "markdown",
      "id": "1f38d749",
      "metadata": {
        "id": "1f38d749"
      },
      "source": [
        "**14. Assign `None` to a variable and print it.**"
      ]
    },
    {
      "cell_type": "markdown",
      "id": "bd415bb9",
      "metadata": {
        "id": "bd415bb9"
      },
      "source": [
        "**15. Create a boolean variable for `is_student` and set to True.**"
      ]
    },
    {
      "cell_type": "markdown",
      "id": "b952747d",
      "metadata": {
        "id": "b952747d"
      },
      "source": [
        "**16. Use underscore `_` in a variable name and print it.**"
      ]
    },
    {
      "cell_type": "markdown",
      "id": "f71f6133",
      "metadata": {
        "id": "f71f6133"
      },
      "source": [
        "**17. Store a list of numbers from 1 to 5 in a variable.**"
      ]
    },
    {
      "cell_type": "markdown",
      "id": "326602ea",
      "metadata": {
        "id": "326602ea"
      },
      "source": [
        "**18. Create a variable that stores your favorite quote.**"
      ]
    },
    {
      "cell_type": "markdown",
      "id": "2e8b5c7b",
      "metadata": {
        "id": "2e8b5c7b"
      },
      "source": [
        "**19. Assign your birthdate as a string to a variable.**"
      ]
    },
    {
      "cell_type": "markdown",
      "id": "d9a216a3",
      "metadata": {
        "id": "d9a216a3"
      },
      "source": [
        "**20. Create a variable that holds a Python keyword as a string.**"
      ]
    }
  ],
  "metadata": {
    "colab": {
      "provenance": [],
      "include_colab_link": true
    }
  },
  "nbformat": 4,
  "nbformat_minor": 5
}